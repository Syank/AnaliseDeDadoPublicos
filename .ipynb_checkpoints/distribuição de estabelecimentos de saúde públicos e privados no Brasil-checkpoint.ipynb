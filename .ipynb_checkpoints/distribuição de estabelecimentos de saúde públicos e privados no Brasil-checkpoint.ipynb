{
 "cells": [
  {
   "cell_type": "code",
   "execution_count": 1,
   "metadata": {},
   "outputs": [],
   "source": [
    "# importando todas as bibliotecas necessárias\n",
    "import pandas as pd\n",
    "from matplotlib import pyplot as plt"
   ]
  },
  {
   "cell_type": "code",
   "execution_count": 2,
   "metadata": {},
   "outputs": [],
   "source": [
    "#Lendo o arquivo\n",
    "ceps = pd.read_excel(r'bancos_de_dados/CNES_01_04_2020_banco_estab.xlsx', usecols=[\"CO_CEP\"]) #arquivo de 01/04/2020"
   ]
  },
  {
   "cell_type": "code",
   "execution_count": 3,
   "metadata": {},
   "outputs": [],
   "source": [
    "# A função abaixo recebe um numero de amostras para analisar e retorna um dicionário que contêm as UFs e a quantia de estabelecimentos nela\n",
    "def coletarAmostraEstabsPorUF(numeroDeAmostras, fonte):\n",
    "    amostras = fonte.sample(numeroDeAmostras)\n",
    "    chaves = amostras.CO_CEP.keys()\n",
    "    ufs = {}\n",
    "    \n",
    "    # O loop abaixo pega os endereços de cada cep e os guarda\n",
    "    for chave in chaves:\n",
    "        cep = str(amostras.CO_CEP.get(chave))\n",
    "        while len(cep) < 8:  # CEPs antigos tem menos digitos, esse loop corrige isso atualizando eles para 8 digitos\n",
    "            cep = '0' + cep\n",
    "        try:\n",
    "            if int(cep) in  range(69900000, 69999999):\n",
    "                ufDoEstabelecimento = 'AC'  # Acessando os dados do CEP e retornado seu estado\n",
    "            elif int(cep) in range(57000000, 57999999):\n",
    "                ufDoEstabelecimento = 'AL'\n",
    "            elif int(cep) in range(69000000, 69299999) or int(cep) in range(69400000, 69899999):\n",
    "                ufDoEstabelecimento = 'AM'\n",
    "            elif int(cep) in range(68900000, 68999999):\n",
    "                ufDoEstabelecimento = 'AP'\n",
    "            elif int(cep) in range(40000000, 48999999):\n",
    "                ufDoEstabelecimento = 'BA'\n",
    "            elif int(cep) in range(60000000, 63999999):\n",
    "                ufDoEstabelecimento = 'CE'\n",
    "            elif int(cep) in range(70000000, 72799999) or int(cep) in range(73000000, 73699999):\n",
    "                ufDoEstabelecimento = 'DF'\n",
    "            elif int(cep) in range(29000000, 29999999):\n",
    "                ufDoEstabelecimento = 'ES'\n",
    "            elif int(cep) in range(72800000, 72999999) or int(cep) in range(73700000, 76799999):\n",
    "                ufDoEstabelecimento = 'GO'\n",
    "            elif int(cep) in range(65000000, 65999999):\n",
    "                ufDoEstabelecimento = 'MA'\n",
    "            elif int(cep) in range(30000000, 39999999):\n",
    "                ufDoEstabelecimento = 'MG'\n",
    "            elif int(cep) in range(79000000, 79999999):\n",
    "                ufDoEstabelecimento = 'MS'\n",
    "            elif int(cep) in range(78000000, 78899999):\n",
    "                ufDoEstabelecimento = 'MT'\n",
    "            elif int(cep) in range(66000000, 68899999):\n",
    "                ufDoEstabelecimento = 'PA'\n",
    "            elif int(cep) in range(58000000, 58999999):\n",
    "                ufDoEstabelecimento = 'PB'\n",
    "            elif int(cep) in range(50000000, 56999999):\n",
    "                ufDoEstabelecimento = 'PE'\n",
    "            elif int(cep) in range(64000000, 64999999):\n",
    "                ufDoEstabelecimento = 'PI'\n",
    "            elif int(cep) in range(80000000, 87999999):\n",
    "                ufDoEstabelecimento = 'PR'\n",
    "            elif int(cep) in range(20000000, 28999999):\n",
    "                ufDoEstabelecimento = 'RJ'\n",
    "            elif int(cep) in range(59000000, 59999999):\n",
    "                ufDoEstabelecimento = 'RN'\n",
    "            elif int(cep) in range(76800000, 76999999):\n",
    "                ufDoEstabelecimento = 'RO'\n",
    "            elif int(cep) in range(69300000, 69399999):\n",
    "                ufDoEstabelecimento = 'RR'\n",
    "            elif int(cep) in range(690000000, 99999999):\n",
    "                ufDoEstabelecimento = 'RS'\n",
    "            elif int(cep) in range(88000000, 89999999):\n",
    "                ufDoEstabelecimento = 'SC'\n",
    "            elif int(cep) in range(49000000, 49999999):\n",
    "                ufDoEstabelecimento = 'SE'\n",
    "            elif int(cep) in range(1000000, 19999999):\n",
    "                ufDoEstabelecimento = 'SP'\n",
    "            else:\n",
    "                ufDoEstabelecimento = 'TO'\n",
    "        except:\n",
    "            print(cep)\n",
    "        # A condicional a seguir avalia se o estado já existe nas ufs, caso não exista, ele adiciona, caso exista, soma mais um estabelecimento no estado\n",
    "        if ufDoEstabelecimento not in ufs:\n",
    "            ufs[ufDoEstabelecimento] = 1\n",
    "        else:\n",
    "            ufs[ufDoEstabelecimento] += 1\n",
    "\n",
    "    return ufs\n",
    "\n",
    "amostragem = coletarAmostraEstabsPorUF(len(ceps.index), ceps) # parametro 1: quantidade de linhas da planilha. todas: len(ceps.index)"
   ]
  },
  {
   "cell_type": "code",
   "execution_count": 5,
   "metadata": {},
   "outputs": [
    {
     "data": {
      "image/png": "[encoded data removed]",
      "text/plain": [
       "<Figure size 792x792 with 1 Axes>"
      ]
     },
     "metadata": {
      "needs_background": "light"
     },
     "output_type": "display_data"
    }
   ],
   "source": [
    "# gráfico de barras que mostra a qtd de estabelecimentos de saúde em cada Estado\n",
    "grupos = list(amostragem.keys()) # as chaves dos dicionários precisaram ser convertidas para lista\n",
    "valores = list(amostragem.values()) # os valores atrelados a cada chave precisaram ser convertidas para lista\n",
    "plt.barh(grupos, valores)\n",
    "plt.rcParams['figure.figsize'] = (11,11) #ajustando tamanho do gráfico\n",
    "plt.title('Distribuição de estabelecimentos de saúde públicos e privados em cada Estado brasileiro') #título do gráfico\n",
    "plt.show()"
   ]
  },
  {
   "cell_type": "code",
   "execution_count": null,
   "metadata": {},
   "outputs": [],
   "source": []
  }
 ],
 "metadata": {
  "kernelspec": {
   "display_name": "Python 3",
   "language": "python",
   "name": "python3"
  },
  "language_info": {
   "codemirror_mode": {
    "name": "ipython",
    "version": 3
   },
   "file_extension": ".py",
   "mimetype": "text/x-python",
   "name": "python",
   "nbconvert_exporter": "python",
   "pygments_lexer": "ipython3",
   "version": "3.8.3"
  }
 },
 "nbformat": 4,
 "nbformat_minor": 4
}
