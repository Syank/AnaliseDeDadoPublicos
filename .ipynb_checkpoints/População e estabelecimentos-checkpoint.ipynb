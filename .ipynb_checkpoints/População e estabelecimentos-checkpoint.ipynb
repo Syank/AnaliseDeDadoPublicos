{
 "cells": [
  {
   "cell_type": "code",
   "execution_count": 2,
   "metadata": {},
   "outputs": [],
   "source": [
    "# Importando as bibliotecas necessárias\n",
    "import pandas as pd\n",
    "from matplotlib import pyplot as plt"
   ]
  },
  {
   "cell_type": "code",
   "execution_count": 10,
   "metadata": {},
   "outputs": [],
   "source": [
    "# Lendo os bancos de dados necessários\n",
    "populaçoes = pd.read_excel(r'Bancos_de_Dados\\População\\\\tab1_1.xls')\n",
    "ceps = pd.read_excel(r'bancos_de_dados/CNES_01_04_2020_banco_estab.xlsx', usecols=[\"CO_CEP\"])"
   ]
  },
  {
   "cell_type": "code",
   "execution_count": 11,
   "metadata": {},
   "outputs": [],
   "source": [
    "# A função abaixo recebe um numero de amostras para analisar e retorna um dicionário que contêm as UFs e a quantia de estabelecimentos nela\n",
    "def coletarAmostraEstabsPorUF(numeroDeAmostras, fonte):\n",
    "    amostras = fonte.sample(numeroDeAmostras)\n",
    "    chaves = amostras.CO_CEP.keys()\n",
    "    ufs = {}\n",
    "    \n",
    "    # O loop abaixo pega os endereços de cada cep e os guarda\n",
    "    for chave in chaves:\n",
    "        cep = str(amostras.CO_CEP.get(chave))\n",
    "        while len(cep) < 8:  # CEPs antigos tem menos digitos, esse loop corrige isso atualizando eles para 8 digitos\n",
    "            cep = '0' + cep\n",
    "        try:\n",
    "            if int(cep) in  range(69900000, 69999999):\n",
    "                ufDoEstabelecimento = 'AC'  # Acessando os dados do CEP e retornado seu estado\n",
    "            elif int(cep) in range(57000000, 57999999):\n",
    "                ufDoEstabelecimento = 'AL'\n",
    "            elif int(cep) in range(69000000, 69299999) or int(cep) in range(69400000, 69899999):\n",
    "                ufDoEstabelecimento = 'AM'\n",
    "            elif int(cep) in range(68900000, 68999999):\n",
    "                ufDoEstabelecimento = 'AP'\n",
    "            elif int(cep) in range(40000000, 48999999):\n",
    "                ufDoEstabelecimento = 'BA'\n",
    "            elif int(cep) in range(60000000, 63999999):\n",
    "                ufDoEstabelecimento = 'CE'\n",
    "            elif int(cep) in range(70000000, 72799999) or int(cep) in range(73000000, 73699999):\n",
    "                ufDoEstabelecimento = 'DF'\n",
    "            elif int(cep) in range(29000000, 29999999):\n",
    "                ufDoEstabelecimento = 'ES'\n",
    "            elif int(cep) in range(72800000, 72999999) or int(cep) in range(73700000, 76799999):\n",
    "                ufDoEstabelecimento = 'GO'\n",
    "            elif int(cep) in range(65000000, 65999999):\n",
    "                ufDoEstabelecimento = 'MA'\n",
    "            elif int(cep) in range(30000000, 39999999):\n",
    "                ufDoEstabelecimento = 'MG'\n",
    "            elif int(cep) in range(79000000, 79999999):\n",
    "                ufDoEstabelecimento = 'MS'\n",
    "            elif int(cep) in range(78000000, 78899999):\n",
    "                ufDoEstabelecimento = 'MT'\n",
    "            elif int(cep) in range(66000000, 68899999):\n",
    "                ufDoEstabelecimento = 'PA'\n",
    "            elif int(cep) in range(58000000, 58999999):\n",
    "                ufDoEstabelecimento = 'PB'\n",
    "            elif int(cep) in range(50000000, 56999999):\n",
    "                ufDoEstabelecimento = 'PE'\n",
    "            elif int(cep) in range(64000000, 64999999):\n",
    "                ufDoEstabelecimento = 'PI'\n",
    "            elif int(cep) in range(80000000, 87999999):\n",
    "                ufDoEstabelecimento = 'PR'\n",
    "            elif int(cep) in range(20000000, 28999999):\n",
    "                ufDoEstabelecimento = 'RJ'\n",
    "            elif int(cep) in range(59000000, 59999999):\n",
    "                ufDoEstabelecimento = 'RN'\n",
    "            elif int(cep) in range(76800000, 76999999):\n",
    "                ufDoEstabelecimento = 'RO'\n",
    "            elif int(cep) in range(69300000, 69399999):\n",
    "                ufDoEstabelecimento = 'RR'\n",
    "            elif int(cep) in range(690000000, 99999999):\n",
    "                ufDoEstabelecimento = 'RS'\n",
    "            elif int(cep) in range(88000000, 89999999):\n",
    "                ufDoEstabelecimento = 'SC'\n",
    "            elif int(cep) in range(49000000, 49999999):\n",
    "                ufDoEstabelecimento = 'SE'\n",
    "            elif int(cep) in range(1000000, 19999999):\n",
    "                ufDoEstabelecimento = 'SP'\n",
    "            else:\n",
    "                ufDoEstabelecimento = 'TO'\n",
    "        except:\n",
    "            print(cep)\n",
    "            raise\n",
    "        # A condicional a seguir avalia se o estado já existe nas ufs, caso não exista, ele adiciona, caso exista, soma mais um estabelecimento no estado\n",
    "        if ufDoEstabelecimento not in ufs:\n",
    "            ufs[ufDoEstabelecimento] = 1\n",
    "        else:\n",
    "            ufs[ufDoEstabelecimento] += 1\n",
    "\n",
    "    return ufs\n",
    "\n",
    "amostragem = coletarAmostraEstabsPorUF(len(ceps.index), ceps) # parametro 1: quantidade de linhas da planilha. todas: len(ceps.index)"
   ]
  },
  {
   "cell_type": "code",
   "execution_count": 5,
   "metadata": {},
   "outputs": [],
   "source": [
    "# Função que retorna uma lista com 2 dicionários, um por região e outra por estado\n",
    "def obterPopulaçoes(populaçao = populaçoes):\n",
    "    'Retorna uma lista com 2 dicionários, um por região e outro por estado'\n",
    "    'Pode ser chamada sem passar um parâmetro'\n",
    "    \n",
    "    # Váriaveis que serão usadas no loop logo a baixo\n",
    "    pop = {}\n",
    "    caracteresEspeciais = [' ', '(', ')', '1', '2', '3']\n",
    "    populaçaoPorRegiao = {}\n",
    "    populaçaoPorEstado = {}\n",
    "    regioes = ['Brasil', 'Norte', 'Nordeste', 'Sudeste', 'Sul', 'Centro-Oeste']\n",
    "\n",
    "    # Loop para ler as populações do Brasil e filtrar/organizar as informações\n",
    "    for linha in range(0, len(populaçao.index)):\n",
    "\n",
    "        \n",
    "        if str(populaçao.loc[linha, 'Unnamed: 4']) == 'nan':  # Verifica se existe a informação inválida 'nan' na chave, caso exista, não adiciona a linha\n",
    "            continue  # Continue faz o loop pular para a próxima iteração, sem executar o que está abaixo\n",
    "        else:  # Caso não contenha 'nan', realiza os procedimentos abaixo\n",
    "            correçao = populaçao.loc[linha, 'Unnamed: 0']  # Pega o nome do estado/região\n",
    "            for especial in caracteresEspeciais:  # Loop para tirar sujeiras do nome\n",
    "                correçao = correçao.replace(especial, '')  # Troca a sujeira por ''\n",
    "\n",
    "            # Depois de limpar a sujeira, adiciona o nome da região/estado a um novo dicionário, com seu valor de população\n",
    "            pop[correçao] = int(populaçao.loc[linha, 'Unnamed: 4'])\n",
    "\n",
    "            # Filtra os estados/regiões, adicionando cada um em um respectivo dicionário\n",
    "            if correçao in regioes:\n",
    "                populaçaoPorRegiao[correçao] = pop[correçao]\n",
    "            else:\n",
    "                if correçao == 'Acre':\n",
    "                    uf = 'AC'\n",
    "                elif correçao == 'Alagoas':\n",
    "                    uf = 'AL'\n",
    "                elif correçao == 'Amapá':\n",
    "                    uf = 'AP'\n",
    "                elif correçao == 'Amazonas':\n",
    "                    uf = 'AM'\n",
    "                elif correçao == 'Bahia':\n",
    "                    uf = 'BA'\n",
    "                elif correçao == 'Ceará':\n",
    "                    uf = 'CE'\n",
    "                elif correçao == 'DistritoFederal':\n",
    "                    uf = 'DF'\n",
    "                elif correçao == 'EspíritoSanto':\n",
    "                    uf = 'ES'\n",
    "                elif correçao == 'Goiás':\n",
    "                    uf = 'GO'\n",
    "                elif correçao == 'Maranhão':\n",
    "                    uf = 'MA'\n",
    "                elif correçao == 'MatoGrosso':\n",
    "                    uf = 'MT'\n",
    "                elif correçao == 'MatoGrossodoSul':\n",
    "                    uf = 'MS'\n",
    "                elif correçao == 'MinasGerais':\n",
    "                    uf = 'MG'\n",
    "                elif correçao == 'Paraná':\n",
    "                    uf = 'PA'\n",
    "                elif correçao == 'Paraíba':\n",
    "                    uf = 'PB'\n",
    "                elif correçao == 'Pará':\n",
    "                    uf = 'PR'\n",
    "                elif correçao == 'Pernambuco':\n",
    "                    uf = 'PE'\n",
    "                elif correçao == 'Piauí':\n",
    "                    uf = 'PI'\n",
    "                elif correçao == 'RioGrandedoNorte':\n",
    "                    uf = 'RN'\n",
    "                elif correçao == 'RioGrandedoSul':\n",
    "                    uf = 'RS'\n",
    "                elif correçao == 'RiodeJaneiro':\n",
    "                    uf = 'RJ'\n",
    "                elif correçao == 'Rondônia':\n",
    "                    uf = 'RO'\n",
    "                elif correçao == 'Roraima':\n",
    "                    uf = 'RR'\n",
    "                elif correçao == 'SantaCatarina':\n",
    "                    uf = 'SC'\n",
    "                elif correçao == 'Sergipe':\n",
    "                    uf = 'SE'\n",
    "                elif correçao == 'SãoPaulo':\n",
    "                    uf = 'SP'\n",
    "                elif correçao == 'Tocantins':\n",
    "                    uf = 'TO'\n",
    "                    \n",
    "                populaçaoPorEstado[uf] = pop[correçao]\n",
    "\n",
    "    return [populaçaoPorRegiao, populaçaoPorEstado]\n"
   ]
  },
  {
   "cell_type": "code",
   "execution_count": 33,
   "metadata": {},
   "outputs": [],
   "source": [
    "# A função a baixo organiza o dicionario de populações, retornando uma lista com as ufs e populações na ordem crescente\n",
    "def organizarPorMaior(dicionarioComPop):\n",
    "    uf = []\n",
    "    inversao = {v: k for k, v in dicionarioComPop.items()}  # Inverte as chaves pelos valores\n",
    "    populaçoes = sorted(inversao)\n",
    "    for total in populaçoes:\n",
    "        uf.append(inversao[total])\n",
    "\n",
    "    return [uf, populaçoes]  # UFs no indice 0 da lista, populações da UF no indice 1, em ordem\n"
   ]
  },
  {
   "cell_type": "code",
   "execution_count": 35,
   "metadata": {},
   "outputs": [
    {
     "data": {
      "image/png": "[encoded data removed]",
      "text/plain": [
       "<Figure size 720x1080 with 1 Axes>"
      ]
     },
     "metadata": {
      "needs_background": "light"
     },
     "output_type": "display_data"
    }
   ],
   "source": [
    "# Gráfico de barras exibindo a população brasileira por estado\n",
    "populaçao = obterPopulaçoes()\n",
    "dadosOrganizados = organizarPorMaior(populaçao[1])\n",
    "plt.barh(dadosOrganizados[0], dadosOrganizados[1])\n",
    "plt.rcParams['figure.figsize'] = (15,15)\n",
    "plt.title('População brasileira por estado')\n",
    "plt.show()\n"
   ]
  },
  {
   "cell_type": "code",
   "execution_count": 36,
   "metadata": {},
   "outputs": [
    {
     "data": {
      "image/png": "[encoded data removed]",
      "text/plain": [
       "<Figure size 1080x1080 with 1 Axes>"
      ]
     },
     "metadata": {
      "needs_background": "light"
     },
     "output_type": "display_data"
    }
   ],
   "source": [
    "# Gráfico de barras que mostra a quantia de estabelecimentos de saúde em cada Estado\n",
    "dadosOrganizados = organizarPorMaior(amostragem)\n",
    "plt.barh(dadosOrganizados[0], dadosOrganizados[1])\n",
    "plt.rcParams['figure.figsize'] = (20, 20) #ajustando tamanho do gráfico\n",
    "plt.title('Distribuição de estabelecimentos de saúde públicos e privados em cada Estado brasileiro') #título do gráfico\n",
    "plt.show()\n"
   ]
  }
 ],
 "metadata": {
  "kernelspec": {
   "display_name": "Python 3",
   "language": "python",
   "name": "python3"
  },
  "language_info": {
   "codemirror_mode": {
    "name": "ipython",
    "version": 3
   },
   "file_extension": ".py",
   "mimetype": "text/x-python",
   "name": "python",
   "nbconvert_exporter": "python",
   "pygments_lexer": "ipython3",
   "version": "3.8.2"
  }
 },
 "nbformat": 4,
 "nbformat_minor": 4
}
