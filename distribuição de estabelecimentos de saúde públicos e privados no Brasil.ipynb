{
 "cells": [
  {
   "cell_type": "code",
   "execution_count": 1,
   "metadata": {},
   "outputs": [
    {
     "name": "stderr",
     "output_type": "stream",
     "text": [
      "INFO:matplotlib.font_manager:generated new fontManager\n"
     ]
    }
   ],
   "source": [
    "import pandas as pd\n",
    "import pycep_correios as pycep\n",
    "from matplotlib import pyplot as plt"
   ]
  },
  {
   "cell_type": "code",
   "execution_count": null,
   "metadata": {},
   "outputs": [],
   "source": [
    "#Lendo o arquivo\n",
    "ceps = pd.read_excel(r'bancos_de_dados/CNES_01_04_2020_banco_estab.xlsx', usecols=[\"CO_CEP\"])"
   ]
  },
  {
   "cell_type": "code",
   "execution_count": null,
   "metadata": {},
   "outputs": [],
   "source": [
    "# O loop abaixo pega os endereços de cada cep e os guarda\n",
    "ufs = []\n",
    "amostras = ceps.sample(100)\n",
    "chaves = amostras.CO_CEP.keys()\n",
    "for chave in chaves:\n",
    "    cep = str(amostras.CO_CEP.get(chave))\n",
    "    while len(cep) < 8:  # CEPs antigos tem menos digitos, esse loop corrige isso atualizando eles para 8 digitos\n",
    "        cep = '0' + cep\n",
    "    cep = pycep.get_address_from_cep(cep) # Recuperar o UF do Estado foi necessário pois o arquivo somente disponibilizava ceps, e não os Estados\n",
    "    ufs.append(cep['uf'])"
   ]
  },
  {
   "cell_type": "code",
   "execution_count": null,
   "metadata": {},
   "outputs": [],
   "source": [
    "amostras"
   ]
  },
  {
   "cell_type": "code",
   "execution_count": null,
   "metadata": {},
   "outputs": [],
   "source": [
    "# Contando quantos estabelecimentos há em cada Estado\n",
    "AC = ufs.count('AC')\n",
    "AL = ufs.count('AL')\n",
    "AP = ufs.count('AP')\n",
    "AM = ufs.count('AM')\n",
    "BA = ufs.count('BA')\n",
    "CE = ufs.count('CE')\n",
    "DF = ufs.count('DF')\n",
    "ES = ufs.count('ES')\n",
    "GO = ufs.count('GO')\n",
    "MA = ufs.count('MA')\n",
    "MT = ufs.count('MT')\n",
    "MS = ufs.count('MS')\n",
    "MG = ufs.count('MG')\n",
    "PA = ufs.count('PA')\n",
    "PB = ufs.count('PB')\n",
    "PR = ufs.count('PR')\n",
    "PE = ufs.count('PE')\n",
    "PI = ufs.count('PI')\n",
    "RJ = ufs.count('RJ')\n",
    "RN = ufs.count('RN')\n",
    "RS = ufs.count('RS')\n",
    "RO = ufs.count('RO')\n",
    "RR = ufs.count('RR')\n",
    "SC = ufs.count('SC')\n",
    "SP = ufs.count('SP')\n",
    "SE = ufs.count('SE')\n",
    "TO = ufs.count('TO')"
   ]
  },
  {
   "cell_type": "code",
   "execution_count": null,
   "metadata": {},
   "outputs": [],
   "source": [
    "grupos = ['AC','AL','AP','AM','BA','CE','DF','ES','GO','MA','MT','MS','MG','PA','PB','PR','PE','PI','RJ','RN','RS','RO','RR','SC','SP','SE','TO']\n",
    "valores = [AC,AL,AP,AM,BA,CE,DF,ES,GO,MA,MT,MS,MG,PA,PB,PR,PE,PI,RJ,RN,RS,RO,RR,SC,SP,SE,TO]\n",
    "plt.barh(grupos, valores)\n",
    "plt.show()"
   ]
  },
  {
   "cell_type": "code",
   "execution_count": null,
   "metadata": {},
   "outputs": [],
   "source": []
  },
  {
   "cell_type": "code",
   "execution_count": null,
   "metadata": {},
   "outputs": [],
   "source": []
  }
 ],
 "metadata": {
  "kernelspec": {
   "display_name": "Python 3",
   "language": "python",
   "name": "python3"
  },
  "language_info": {
   "codemirror_mode": {
    "name": "ipython",
    "version": 3
   },
   "file_extension": ".py",
   "mimetype": "text/x-python",
   "name": "python",
   "nbconvert_exporter": "python",
   "pygments_lexer": "ipython3",
   "version": "3.8.2"
  }
 },
 "nbformat": 4,
 "nbformat_minor": 4
}
